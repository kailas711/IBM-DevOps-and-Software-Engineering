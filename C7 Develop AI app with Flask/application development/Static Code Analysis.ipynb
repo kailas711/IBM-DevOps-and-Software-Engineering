{
 "cells": [
  {
   "cell_type": "markdown",
   "metadata": {},
   "source": [
    "# Static code analysis using PyLint"
   ]
  },
  {
   "cell_type": "code",
   "execution_count": 5,
   "metadata": {},
   "outputs": [
    {
     "name": "stdout",
     "output_type": "stream",
     "text": [
      "************* Module sample1\n",
      "sample1.py:15:0: C0301: Line too long (110/100) (line-too-long)\n",
      "sample1.py:16:0: C0304: Final newline missing (missing-final-newline)\n",
      "sample1.py:1:0: C0114: Missing module docstring (missing-module-docstring)\n",
      "sample1.py:2:0: C0116: Missing function or method docstring (missing-function-docstring)\n",
      "sample1.py:7:0: C0103: Constant name \"num1\" doesn't conform to UPPER_CASE naming style (invalid-name)\n",
      "sample1.py:10:0: C0103: Constant name \"num2\" doesn't conform to UPPER_CASE naming style (invalid-name)\n",
      "sample1.py:13:0: C0103: Constant name \"total\" doesn't conform to UPPER_CASE naming style (invalid-name)\n",
      "sample1.py:16:6: C0209: Formatting a regular string which could be an f-string (consider-using-f-string)\n",
      "\n",
      "-----------------------------------\n",
      "Your code has been rated at 0.00/10\n",
      "\n"
     ]
    }
   ],
   "source": [
    "!pylint sample1.py"
   ]
  },
  {
   "cell_type": "code",
   "execution_count": 6,
   "metadata": {},
   "outputs": [
    {
     "name": "stdout",
     "output_type": "stream",
     "text": [
      "************* Module sample2\n",
      "sample2.py:1:0: C0114: Missing module docstring (missing-module-docstring)\n",
      "sample2.py:3:0: C0116: Missing function or method docstring (missing-function-docstring)\n",
      "sample2.py:14:0: C0103: Constant name \"num2\" doesn't conform to UPPER_CASE naming style (invalid-name)\n",
      "sample2.py:18:0: C0103: Constant name \"total\" doesn't conform to UPPER_CASE naming style (invalid-name)\n",
      "sample2.py:22:6: C0209: Formatting a regular string which could be an f-string (consider-using-f-string)\n",
      "\n",
      "-----------------------------------\n",
      "Your code has been rated at 1.67/10\n",
      "\n"
     ]
    }
   ],
   "source": [
    "!pylint sample2.py"
   ]
  }
 ],
 "metadata": {
  "kernelspec": {
   "display_name": "DLAI",
   "language": "python",
   "name": "python3"
  },
  "language_info": {
   "codemirror_mode": {
    "name": "ipython",
    "version": 3
   },
   "file_extension": ".py",
   "mimetype": "text/x-python",
   "name": "python",
   "nbconvert_exporter": "python",
   "pygments_lexer": "ipython3",
   "version": "3.12.5"
  }
 },
 "nbformat": 4,
 "nbformat_minor": 2
}
